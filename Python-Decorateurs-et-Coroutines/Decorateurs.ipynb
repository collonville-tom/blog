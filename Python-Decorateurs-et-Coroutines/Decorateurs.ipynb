{
 "cells": [
  {
   "cell_type": "code",
   "execution_count": 8,
   "metadata": {},
   "outputs": [
    {
     "name": "stdout",
     "output_type": "stream",
     "text": [
      "Je decore la fonction  <function uneFonction at 0x00DEEFA8>\n"
     ]
    }
   ],
   "source": [
    "#DECORATEUR SIMPLE\n",
    "\n",
    "def monDecorateur(func):\n",
    "    print(\"Je decore la fonction \", func)\n",
    "    return func\n",
    "  \n",
    "@monDecorateur\n",
    "def uneFonction():\n",
    "    print(\"je m'execute\")\n",
    "    \n"
   ]
  },
  {
   "cell_type": "code",
   "execution_count": 11,
   "metadata": {},
   "outputs": [
    {
     "name": "stdout",
     "output_type": "stream",
     "text": [
      "Je decore la fonction  <function uneFonction at 0x083AE348>\n",
      "j'execute la nouvelle fonction en plus\n",
      "je m'execute\n"
     ]
    }
   ],
   "source": [
    "#DECORATEUR \n",
    "\n",
    "def monDecorateur(func):\n",
    "    print(\"Je decore la fonction \", func)\n",
    "    def maNouvelleFonction():\n",
    "        print(\"j'execute la nouvelle fonction en plus\")\n",
    "        func()\n",
    "    \n",
    "    return maNouvelleFonction\n",
    "  \n",
    "@monDecorateur\n",
    "def uneFonction():\n",
    "    print(\"je m'execute\")\n",
    "    \n",
    "uneFonction()"
   ]
  },
  {
   "cell_type": "code",
   "execution_count": 22,
   "metadata": {},
   "outputs": [
    {
     "name": "stdout",
     "output_type": "stream",
     "text": [
      "monDecorateur prend la valeur 2\n",
      "Je decore la fonction  <function uneFonction at 0x0322AD20>\n",
      "j'execute la nouvelle fonction en plus\n",
      "je m'execute\n",
      "#############\n",
      "monDecorateur prend la valeur 2\n",
      "Je decore la fonction  <function uneAutreFonction at 0x0322A738>\n",
      "j'execute la nouvelle fonction en plus\n",
      "je m'execute\n"
     ]
    }
   ],
   "source": [
    "#DECORATEUR-PARAM\n",
    "\n",
    "def monDecorateur(valeur):\n",
    "    print(\"monDecorateur prend la valeur\",valeur)\n",
    "    def decorateur(func):\n",
    "        print(\"Je decore la fonction \", func)\n",
    "        def maNouvelleFonction():\n",
    "            print(\"j'execute la nouvelle fonction en plus\")\n",
    "            func()\n",
    "        return maNouvelleFonction\n",
    "    return decorateur\n",
    "  \n",
    "@monDecorateur(2)\n",
    "def uneFonction():\n",
    "    print(\"je m'execute\")\n",
    "    \n",
    "uneFonction()\n",
    "\n",
    "print(\"#############\")\n",
    "\n",
    "def uneAutreFonction():\n",
    "    print(\"je m'execute\")\n",
    "\n",
    "monDecorateur(2)(uneAutreFonction)()"
   ]
  },
  {
   "cell_type": "code",
   "execution_count": 19,
   "metadata": {},
   "outputs": [
    {
     "name": "stdout",
     "output_type": "stream",
     "text": [
      "monDecorateur prend la valeur 2\n",
      "Je decore la fonction  <function uneFonction at 0x0322A2B8>\n",
      "j'execute la nouvelle fonction en plus\n",
      "je m'execute avec des param prout quoi!\n"
     ]
    }
   ],
   "source": [
    "#DECORATEUR-PARAMS\n",
    "\n",
    "def monDecorateur(valeur):\n",
    "    print(\"monDecorateur prend la valeur\",valeur)\n",
    "    def decorateur(func):\n",
    "        print(\"Je decore la fonction \", func)\n",
    "        def maNouvelleFonction(parametre):\n",
    "            print(\"j'execute la nouvelle fonction en plus et ca me permet de filtrer\")\n",
    "            func(parametre)\n",
    "        return maNouvelleFonction\n",
    "    return decorateur\n",
    "  \n",
    "@monDecorateur(2)\n",
    "def uneFonction(parametre):\n",
    "    print(\"je m'execute avec des param\",parametre)\n",
    "    \n",
    "uneFonction(\"prout quoi!\")"
   ]
  },
  {
   "cell_type": "code",
   "execution_count": null,
   "metadata": {},
   "outputs": [],
   "source": []
  }
 ],
 "metadata": {
  "kernelspec": {
   "display_name": "Python 3",
   "language": "python",
   "name": "python3"
  },
  "language_info": {
   "codemirror_mode": {
    "name": "ipython",
    "version": 3
   },
   "file_extension": ".py",
   "mimetype": "text/x-python",
   "name": "python",
   "nbconvert_exporter": "python",
   "pygments_lexer": "ipython3",
   "version": "3.6.6"
  }
 },
 "nbformat": 4,
 "nbformat_minor": 2
}
