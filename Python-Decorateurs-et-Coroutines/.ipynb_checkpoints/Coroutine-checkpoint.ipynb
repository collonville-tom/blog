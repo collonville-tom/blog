{
 "cells": [
  {
   "cell_type": "code",
   "execution_count": 167,
   "metadata": {
    "slideshow": {
     "slide_type": "-"
    }
   },
   "outputs": [],
   "source": [
    "def producteur(file):\n",
    "    print(\"PROD: begin producer\")\n",
    "    with open(file,'r') as lfile:\n",
    "        continu=True\n",
    "        print(\"PROD: ouverture du fichier {0} avec boucle init en {1}\".format(file,continu))\n",
    "        while(continu):\n",
    "            print(\"PROD: on est dans la boucle\")\n",
    "            chaine=lfile.readline()\n",
    "            print(\"PROD: dans la boucle, la chaine lu est {0}\".format(chaine))\n",
    "            continu= (yield chaine)\n",
    "            print(\"PROD: on nous repond si on peut continuer {0}\".format(continu))\n",
    "        print(\"PROD: on est sorti de la boucle et on se met en attente de cloture\")\n",
    "        yield\n",
    "        \n",
    "        \n"
   ]
  },
  {
   "cell_type": "code",
   "execution_count": 172,
   "metadata": {},
   "outputs": [],
   "source": [
    "import unittest \n",
    "import re\n",
    "\n",
    "class TestCoroutine(unittest.TestCase):\n",
    "\n",
    "    def testCouroutineSimpel(self):\n",
    "        count=3\n",
    "        gen=producteur('cor.txt')\n",
    "        #help(gen)\n",
    "        print(\"TEST: on initialise le contexte du test avec un nombre de recherche limité a {0} et un generateur {1}\".format(count,gen))\n",
    "        chaine=gen.__next__()\n",
    "        while(True):\n",
    "            print(\"TEST: la chaine vaut {0}, le nombre d'element a reconnaitre {1}\".format(chaine,count))\n",
    "            if(re.search(r\".*mas\",chaine) is not None) :\n",
    "                print(\"TEST: on a reconnu un element on va decrementer\")\n",
    "                count-=1\n",
    "                chaine=gen.send(True)\n",
    "            if(count==0):\n",
    "                print(\"TEST: on a suffisament decrementé, on envoye un message pour mettre fin a l'iteration \")\n",
    "                gen.send(False)\n",
    "                print(\"TEST: on cloture le generateur\")\n",
    "                gen.close()\n",
    "                break\n",
    "        \n",
    "        \n",
    "        \n",
    "        self.assertEqual(0,count)\n",
    "        \n",
    "        \n",
    "        \n",
    "        "
   ]
  },
  {
   "cell_type": "code",
   "execution_count": 173,
   "metadata": {
    "scrolled": true
   },
   "outputs": [
    {
     "name": "stderr",
     "output_type": "stream",
     "text": [
      "E"
     ]
    },
    {
     "name": "stdout",
     "output_type": "stream",
     "text": [
      "TEST: on initialise le contexte du test avec un nombre de recherche limité a 3 et un generateur <generator object producteur at 0x02D0D360>\n",
      "PROD: begin producer\n",
      "PROD: ouverture du fichier cor.txt avec boucle init en True\n",
      "PROD: on est dans la boucle\n",
      "PROD: dans la boucle, la chaine lu est thomas1\n",
      "\n",
      "TEST: la chaine vaut thomas1\n",
      ", le nombre d'element a reconnaitre 3\n",
      "TEST: on a reconnu un element on va decrementer\n",
      "PROD: on nous repond si on peut continuer True\n",
      "PROD: on est dans la boucle\n",
      "PROD: dans la boucle, la chaine lu est thomas2\n",
      "\n",
      "TEST: la chaine vaut thomas2\n",
      ", le nombre d'element a reconnaitre 2\n",
      "TEST: on a reconnu un element on va decrementer\n",
      "PROD: on nous repond si on peut continuer True\n",
      "PROD: on est dans la boucle\n",
      "PROD: dans la boucle, la chaine lu est thomas3\n",
      "\n",
      "TEST: la chaine vaut thomas3\n",
      ", le nombre d'element a reconnaitre 1\n",
      "TEST: on a reconnu un element on va decrementer\n",
      "PROD: on nous repond si on peut continuer True\n",
      "PROD: on est dans la boucle\n",
      "PROD: dans la boucle, la chaine lu est thomas4\n",
      "\n",
      "TEST: on a suffisament decrementé, on envoye un message pour mettre fin a l'iteration \n",
      "PROD: on nous repond si on peut continuer False\n",
      "PROD: on est sorti de la boucle et on se met en attente de cloture\n",
      "TEST: on cloture le generateur\n",
      "TEST: la chaine vaut thomas4\n",
      ", le nombre d'element a reconnaitre 0\n",
      "TEST: on a reconnu un element on va decrementer\n"
     ]
    },
    {
     "name": "stderr",
     "output_type": "stream",
     "text": [
      "\n",
      "======================================================================\n",
      "ERROR: testCouroutineSimpel (__main__.TestCoroutine)\n",
      "----------------------------------------------------------------------\n",
      "Traceback (most recent call last):\n",
      "  File \"<ipython-input-172-fbb610cf6524>\", line 17, in testCouroutineSimpel\n",
      "    chaine=gen.send(True)\n",
      "StopIteration\n",
      "\n",
      "----------------------------------------------------------------------\n",
      "Ran 1 test in 0.005s\n",
      "\n",
      "FAILED (errors=1)\n"
     ]
    }
   ],
   "source": [
    "if __name__ == '__main__':\n",
    "    unittest.main(argv=['first-arg-is-ignored'], exit=False)"
   ]
  },
  {
   "cell_type": "code",
   "execution_count": 118,
   "metadata": {
    "scrolled": true
   },
   "outputs": [
    {
     "name": "stdout",
     "output_type": "stream",
     "text": [
      "['_CHUNK_SIZE', '__class__', '__del__', '__delattr__', '__dict__', '__dir__', '__doc__', '__enter__', '__eq__', '__exit__', '__format__', '__ge__', '__getattribute__', '__getstate__', '__gt__', '__hash__', '__init__', '__init_subclass__', '__iter__', '__le__', '__lt__', '__ne__', '__new__', '__next__', '__reduce__', '__reduce_ex__', '__repr__', '__setattr__', '__sizeof__', '__str__', '__subclasshook__', '_checkClosed', '_checkReadable', '_checkSeekable', '_checkWritable', '_finalizing', 'buffer', 'close', 'closed', 'detach', 'encoding', 'errors', 'fileno', 'flush', 'isatty', 'line_buffering', 'mode', 'name', 'newlines', 'read', 'readable', 'readline', 'readlines', 'seek', 'seekable', 'tell', 'truncate', 'writable', 'write', 'writelines']\n",
      "['thomas1\\n', 'thomas2\\n', 'thomas3\\n', 'thomas4\\n', 'thomas5']\n",
      "<_sre.SRE_Match object; span=(0, 6), match='thomas'>\n"
     ]
    }
   ],
   "source": [
    "with open('cor.txt','r') as file:\n",
    "    print(dir(file))\n",
    "    print(file.readlines())\n",
    "    \n",
    "import re\n",
    "\n",
    "print(re.search(r\".*mas\", \"thomas\"))\n"
   ]
  },
  {
   "cell_type": "code",
   "execution_count": null,
   "metadata": {},
   "outputs": [],
   "source": []
  },
  {
   "cell_type": "code",
   "execution_count": null,
   "metadata": {},
   "outputs": [],
   "source": []
  }
 ],
 "metadata": {
  "kernelspec": {
   "display_name": "Python 3",
   "language": "python",
   "name": "python3"
  },
  "language_info": {
   "codemirror_mode": {
    "name": "ipython",
    "version": 3
   },
   "file_extension": ".py",
   "mimetype": "text/x-python",
   "name": "python",
   "nbconvert_exporter": "python",
   "pygments_lexer": "ipython3",
   "version": "3.6.6"
  }
 },
 "nbformat": 4,
 "nbformat_minor": 2
}
