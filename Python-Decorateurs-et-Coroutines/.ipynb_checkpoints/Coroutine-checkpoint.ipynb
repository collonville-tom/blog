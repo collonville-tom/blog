{
 "cells": [
  {
   "cell_type": "code",
   "execution_count": 88,
   "metadata": {},
   "outputs": [],
   "source": [
    "def skipingRange(min, max):\n",
    "    skip=False\n",
    "    for i in range(min,max):\n",
    "        if not skip:\n",
    "            var=(yield(i))\n",
    "        \n"
   ]
  },
  {
   "cell_type": "code",
   "execution_count": 89,
   "metadata": {},
   "outputs": [],
   "source": [
    "import unittest \n",
    "\n",
    "class TestCoroutine(unittest.TestCase):\n",
    "\n",
    "    def testCouroutineSimpel(self):\n",
    "        gen=skipingRange(0,10)\n",
    "        result=[]\n",
    "        for val in gen:\n",
    "            if(val<4 or val> 8):\n",
    "                gen.send(True)\n",
    "            else:\n",
    "                gen.send(False)\n",
    "            print(val)\n",
    "            result.append(val)\n",
    "            \n",
    "        self.assertEqual(False,result.contains(5))\n",
    "        print(result)\n",
    "        "
   ]
  },
  {
   "cell_type": "code",
   "execution_count": 90,
   "metadata": {
    "scrolled": true
   },
   "outputs": [
    {
     "name": "stderr",
     "output_type": "stream",
     "text": [
      "E\n",
      "======================================================================\n",
      "ERROR: testCouroutineSimpel (__main__.TestCoroutine)\n",
      "----------------------------------------------------------------------\n",
      "Traceback (most recent call last):\n",
      "  File \"<ipython-input-89-ef6536eb06df>\", line 8, in testCouroutineSimpel\n",
      "    for val in gen:\n",
      "  File \"<ipython-input-88-6566344890bd>\", line 2, in skipingRange\n",
      "    valeur+=1\n",
      "UnboundLocalError: local variable 'valeur' referenced before assignment\n",
      "\n",
      "----------------------------------------------------------------------\n",
      "Ran 1 test in 0.008s\n",
      "\n",
      "FAILED (errors=1)\n"
     ]
    }
   ],
   "source": [
    "if __name__ == '__main__':\n",
    "    unittest.main(argv=['first-arg-is-ignored'], exit=False)"
   ]
  },
  {
   "cell_type": "code",
   "execution_count": null,
   "metadata": {
    "scrolled": true
   },
   "outputs": [],
   "source": []
  },
  {
   "cell_type": "code",
   "execution_count": null,
   "metadata": {},
   "outputs": [],
   "source": []
  },
  {
   "cell_type": "code",
   "execution_count": null,
   "metadata": {},
   "outputs": [],
   "source": []
  }
 ],
 "metadata": {
  "kernelspec": {
   "display_name": "Python 3",
   "language": "python",
   "name": "python3"
  },
  "language_info": {
   "codemirror_mode": {
    "name": "ipython",
    "version": 3
   },
   "file_extension": ".py",
   "mimetype": "text/x-python",
   "name": "python",
   "nbconvert_exporter": "python",
   "pygments_lexer": "ipython3",
   "version": "3.6.6"
  }
 },
 "nbformat": 4,
 "nbformat_minor": 2
}
