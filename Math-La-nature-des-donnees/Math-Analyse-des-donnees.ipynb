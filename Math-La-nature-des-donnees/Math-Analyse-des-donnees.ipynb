{
 "cells": [
  {
   "cell_type": "code",
   "execution_count": 1,
   "metadata": {},
   "outputs": [
    {
     "name": "stdout",
     "output_type": "stream",
     "text": [
      "max salaire    5000\n",
      "sexe          M\n",
      "dtype: object\n",
      "min salaire    900\n",
      "sexe         F\n",
      "dtype: object\n",
      "moyenne salaire    2320.0\n",
      "dtype: float64\n",
      "mediane salaire    2200.0\n",
      "dtype: float64\n",
      "variance salaire    1.059267e+06\n",
      "dtype: float64\n",
      "eccart-type salaire    1029.206814\n",
      "dtype: float64\n"
     ]
    },
    {
     "data": {
      "text/plain": [
       "<Figure size 1000x1000 with 1 Axes>"
      ]
     },
     "metadata": {},
     "output_type": "display_data"
    }
   ],
   "source": [
    "# DATA\n",
    "import pandas as pd\n",
    "import matplotlib.pyplot as plt\n",
    "\n",
    "dataBrut={\"celine\":3000,\"mickael\":1200,\"jeremy\":1350,\"benoit\":5000,\"julien\":2500,\"pierre\":2200,\"jacques\":3100,\n",
    "         \"henry\":1450,\"zull\":900,\"claire\":1400,\"will\":3500,\"estelle\":2500,\"jeanne\":2000,\"michelle\":2700,\"emilie\":2000}\n",
    "\n",
    "dataBrut2={\"celine\":\"F\",\"mickael\":\"M\",\"jeremy\":\"M\",\"benoit\":\"M\",\"julien\":\"M\",\"pierre\":\"M\",\"jacques\":\"M\",\n",
    "         \"henry\":\"M\",\"zull\":\"M\",\"claire\":\"F\",\"will\":\"M\",\"estelle\":\"F\",\"jeanne\":\"F\",\"michelle\":\"F\",\"emilie\":\"F\"}\n",
    "\n",
    "dataPD=pd.Series(dataBrut)\n",
    "dataPD.columns = ['nom', 'salaire']\n",
    "\n",
    "dataPD2=pd.Series(dataBrut2)\n",
    "dataPD2.columns = ['nom', 'sexe']\n",
    "\n",
    "dataPD=pd.DataFrame({ \"salaire\":dataBrut,\"sexe\":dataPD2})\n",
    "#print(dataPD)\n",
    "\n",
    "print(\"max {0}\".format(dataPD.max()))\n",
    "print(\"min {0}\".format(dataPD.min()))\n",
    "print(\"moyenne {0}\".format(dataPD.mean()))\n",
    "print(\"mediane {0}\".format(dataPD.median()))\n",
    "print(\"variance {0}\".format(dataPD.var(ddof=0)))\n",
    "print(\"eccart-type {0}\".format(dataPD.std(ddof=0)))\n",
    "\n",
    "fig = plt.figure(1,figsize=(10,10))\n",
    "plt.plot(dataPD[\"salaire\"],\"b-\")\n",
    "plt.show()\n",
    "\n",
    "\n",
    "\n"
   ]
  },
  {
   "cell_type": "code",
   "execution_count": 2,
   "metadata": {},
   "outputs": [
    {
     "data": {
      "text/plain": [
       "array([[<matplotlib.axes._subplots.AxesSubplot object at 0x07CFC290>]],\n",
       "      dtype=object)"
      ]
     },
     "execution_count": 2,
     "metadata": {},
     "output_type": "execute_result"
    },
    {
     "data": {
      "image/png": "[encoded data removed]",
      "text/plain": [
       "<Figure size 432x288 with 1 Axes>"
      ]
     },
     "metadata": {},
     "output_type": "display_data"
    }
   ],
   "source": [
    "#EXEMPLE POP SALAIRE HISTO\n",
    "dataPD.hist()"
   ]
  },
  {
   "cell_type": "code",
   "execution_count": 3,
   "metadata": {},
   "outputs": [
    {
     "data": {
      "text/plain": [
       "<matplotlib.axes._subplots.AxesSubplot at 0xddc0f70>"
      ]
     },
     "execution_count": 3,
     "metadata": {},
     "output_type": "execute_result"
    },
    {
     "data": {
      "image/png": "[encoded data removed]",
      "text/plain": [
       "<Figure size 432x288 with 1 Axes>"
      ]
     },
     "metadata": {},
     "output_type": "display_data"
    }
   ],
   "source": [
    "# BOXPLOT\n",
    "#print(dataPD)\n",
    "dataPD.boxplot(column=\"salaire\", vert=False)"
   ]
  },
  {
   "cell_type": "code",
   "execution_count": 4,
   "metadata": {},
   "outputs": [
    {
     "name": "stdout",
     "output_type": "stream",
     "text": [
      "skw salaire    1.026717\n",
      "dtype: float64\n",
      "kur salaire    1.517498\n",
      "dtype: float64\n"
     ]
    }
   ],
   "source": [
    "#CODE SKEW\n",
    "\n",
    "print(\"skw {0}\".format(dataPD.skew()))\n",
    "print(\"kur {0}\".format(dataPD.kurtosis()))"
   ]
  },
  {
   "cell_type": "code",
   "execution_count": null,
   "metadata": {},
   "outputs": [],
   "source": []
  }
 ],
 "metadata": {
  "kernelspec": {
   "display_name": "Python 3",
   "language": "python",
   "name": "python3"
  },
  "language_info": {
   "codemirror_mode": {
    "name": "ipython",
    "version": 3
   },
   "file_extension": ".py",
   "mimetype": "text/x-python",
   "name": "python",
   "nbconvert_exporter": "python",
   "pygments_lexer": "ipython3",
   "version": "3.6.6"
  }
 },
 "nbformat": 4,
 "nbformat_minor": 2
}
