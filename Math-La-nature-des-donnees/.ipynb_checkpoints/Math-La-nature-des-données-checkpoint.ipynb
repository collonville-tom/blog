{
 "cells": [
  {
   "cell_type": "code",
   "execution_count": 49,
   "metadata": {},
   "outputs": [
    {
     "data": {
      "image/png": "[encoded data removed]",
      "text/plain": [
       "<Figure size 432x288 with 1 Axes>"
      ]
     },
     "metadata": {
      "needs_background": "light"
     },
     "output_type": "display_data"
    }
   ],
   "source": [
    "import numpy as np\n",
    "import matplotlib.pyplot as plt\n",
    "from matplotlib.patches import Polygon\n",
    "\n",
    "def equation(x):\n",
    "    return (x - 1) * (x - 10) * (x - 4) + 85\n",
    "\n",
    "def drawbase():\n",
    "    \n",
    "    a, b = 1, 9 # integral limits\n",
    "    x = np.linspace(0, 10)\n",
    "    y = equation(x)\n",
    "\n",
    "    fig, ax = plt.subplots()\n",
    "    plt.plot(x, y, 'r', linewidth=1)\n",
    "    plt.ylim(ymin=0)\n",
    "\n",
    "    plt.xticks([a, b], ['$a$', '$b$'])\n",
    "    plt.yticks([])\n",
    "    plt.tick_params (top=False)\n",
    "    plt.figtext(b/10, a/10, '$x$')\n",
    "    plt.figtext(a/10, b/10, '$y$')\n",
    "    return ax\n",
    "    \n",
    "drawbase()\n",
    "plt.show()"
   ]
  },
  {
   "cell_type": "code",
   "execution_count": 50,
   "metadata": {},
   "outputs": [
    {
     "data": {
      "image/png": "[encoded data removed]",
      "text/plain": [
       "<Figure size 432x288 with 1 Axes>"
      ]
     },
     "metadata": {
      "needs_background": "light"
     },
     "output_type": "display_data"
    }
   ],
   "source": [
    "drawbase()\n",
    "\n",
    "# Make the shaded region\n",
    "ix = np.linspace(a, b)\n",
    "iy = equation(ix)\n",
    "verts = [(a, 0)] + list(zip(ix, iy)) + [(b, 0)]\n",
    "poly = Polygon(verts, facecolor='0.9', edgecolor='0.5')\n",
    "ax.add_patch(poly)\n",
    "\n",
    "plt.text(0.35 * (a + b), 30, r\"$\\int_a^b f(x)\\mathrm{d}x$\",\n",
    "         horizontalalignment='center', fontsize=20)\n",
    "\n",
    "plt.show()\n",
    "\n",
    "#plt.savefig('integrale.png', format='png')"
   ]
  },
  {
   "cell_type": "code",
   "execution_count": null,
   "metadata": {},
   "outputs": [],
   "source": [
    "\n",
    "# Make the shaded region\n",
    "ix = np.linspace(a, b)\n",
    "iy = equation(ix)\n",
    "verts = [(a, 0)] + list(zip(ix, iy)) + [(b, 0)]\n",
    "#print(verts)\n",
    "poly = Polygon(verts, facecolor='0.9', edgecolor='0.5')\n",
    "ax.add_patch(poly)\n",
    "\n",
    "for i in range(a,b+1):\n",
    "    vertx=[(i,0),(i,equation(i))] + [(i+1,equation(i)),(i+1,0)]\n",
    "    ax.add_patch(Polygon(vertx, facecolor='0.9', edgecolor='0.5'))\n",
    "\n",
    "\n",
    "plt.text(0.35 * (a + b), 30, r\"$\\int_a^b f(x)\\mathrm{d}x$\",\n",
    "         horizontalalignment='center', fontsize=20)\n",
    "\n",
    "plt.figtext(b/10, a/10, '$x$')\n",
    "plt.figtext(a/10, b/10, '$y$')\n",
    "\n",
    "\n",
    "plt.show()\n",
    "\n",
    "#plt.savefig('integrale.png', format='png')"
   ]
  },
  {
   "cell_type": "code",
   "execution_count": null,
   "metadata": {},
   "outputs": [],
   "source": []
  },
  {
   "cell_type": "code",
   "execution_count": null,
   "metadata": {},
   "outputs": [],
   "source": []
  }
 ],
 "metadata": {
  "kernelspec": {
   "display_name": "Python 3",
   "language": "python",
   "name": "python3"
  },
  "language_info": {
   "codemirror_mode": {
    "name": "ipython",
    "version": 3
   },
   "file_extension": ".py",
   "mimetype": "text/x-python",
   "name": "python",
   "nbconvert_exporter": "python",
   "pygments_lexer": "ipython3",
   "version": "3.6.6"
  }
 },
 "nbformat": 4,
 "nbformat_minor": 2
}
