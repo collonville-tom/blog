{
 "cells": [
  {
   "cell_type": "code",
   "execution_count": 27,
   "metadata": {
    "scrolled": true
   },
   "outputs": [
    {
     "name": "stdout",
     "output_type": "stream",
     "text": [
      "[0, 1, 2, 3, 4, 5, 6, 7, 8, 9, 10, 11, 12, 13, 14, 15, 16, 17, 18, 19]\n"
     ]
    }
   ],
   "source": [
    "# L-COMPR\n",
    "maListe=[ x for x in range(0,10) ]\n",
    "maListe.extend([ x for x in range(10,20) ])\n",
    "print(maListe)"
   ]
  },
  {
   "cell_type": "code",
   "execution_count": 57,
   "metadata": {
    "scrolled": true
   },
   "outputs": [
    {
     "name": "stdout",
     "output_type": "stream",
     "text": [
      "0\n",
      "1\n",
      "2\n",
      "3\n",
      "4\n"
     ]
    }
   ],
   "source": [
    "# L-ITER\n",
    "\n",
    "class ObjetIterable():\n",
    "    \n",
    "    def __init__(self,liste):\n",
    "        self.index=0\n",
    "        self.liste=liste\n",
    "        \n",
    "    def __iter__(self):\n",
    "        return self\n",
    "        \n",
    "    def __next__(self):\n",
    "        if(self.index == len(self.liste)):\n",
    "            raise StopIteration\n",
    "        data=self.liste[self.index]\n",
    "        self.index+=1;\n",
    "        return data\n",
    "        \n",
    "l=[0,1,2,3,4]\n",
    "\n",
    "for i in ObjetIterable(l):\n",
    "    print(i)"
   ]
  },
  {
   "cell_type": "code",
   "execution_count": 37,
   "metadata": {},
   "outputs": [
    {
     "name": "stdout",
     "output_type": "stream",
     "text": [
      "first yield 0 10\n",
      "other yield 1 9\n",
      "other yield 2 8\n",
      "other yield 3 7\n",
      "other yield 4 6\n",
      "other yield 5 5\n",
      "other yield 6 4\n",
      "other yield 7 3\n",
      "other yield 8 2\n",
      "other yield 9 1\n",
      "other yield 10 0\n",
      "[0, 9, 16, 21, 24, 25, 24, 21, 16, 9, 0]\n"
     ]
    }
   ],
   "source": [
    "# L-GEN\n",
    "\n",
    "def binaryRange(min,max):\n",
    "    x=min\n",
    "    y=max\n",
    "    print(\"first yield {0} {1}\".format(x,y))\n",
    "    yield (x,y)\n",
    "    while (x<max or y>min):\n",
    "        x+=1\n",
    "        y-=1\n",
    "        print(\"other yield {0} {1}\".format(x,y))\n",
    "        yield (x,y)\n",
    "    \n",
    "maListe=[ x*y for x,y in binaryRange(0,10) ]\n",
    "print(maListe)\n"
   ]
  },
  {
   "cell_type": "code",
   "execution_count": 55,
   "metadata": {},
   "outputs": [
    {
     "name": "stdout",
     "output_type": "stream",
     "text": [
      "0\n",
      "1\n",
      "2\n",
      "3\n",
      "4\n"
     ]
    }
   ],
   "source": []
  },
  {
   "cell_type": "code",
   "execution_count": null,
   "metadata": {},
   "outputs": [],
   "source": [
    "\n"
   ]
  },
  {
   "cell_type": "code",
   "execution_count": null,
   "metadata": {},
   "outputs": [],
   "source": []
  }
 ],
 "metadata": {
  "kernelspec": {
   "display_name": "Python 3",
   "language": "python",
   "name": "python3"
  },
  "language_info": {
   "codemirror_mode": {
    "name": "ipython",
    "version": 3
   },
   "file_extension": ".py",
   "mimetype": "text/x-python",
   "name": "python",
   "nbconvert_exporter": "python",
   "pygments_lexer": "ipython3",
   "version": "3.6.6"
  }
 },
 "nbformat": 4,
 "nbformat_minor": 2
}
