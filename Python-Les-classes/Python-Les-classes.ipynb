{
 "cells": [
  {
   "cell_type": "code",
   "execution_count": 47,
   "metadata": {},
   "outputs": [
    {
     "name": "stdout",
     "output_type": "stream",
     "text": [
      "<__main__.Voiture object at 0x03493410>\n",
      "<__main__.Voiture object at 0x034934D0>\n"
     ]
    },
    {
     "data": {
      "text/plain": [
       "'default'"
      ]
     },
     "execution_count": 47,
     "metadata": {},
     "output_type": "execute_result"
    }
   ],
   "source": [
    "# EXEMPLE-VOITURE\n",
    "class Voiture():\n",
    "    \n",
    "    nbrInstance=0;\n",
    "    \n",
    "    def __init__(self,modele=\"default\", couleur=\"default\"):\n",
    "        Voiture.nbrInstance+=1\n",
    "        self.modele=modele\n",
    "        self.couleur=couleur\n",
    "\n",
    "v1=Voiture()\n",
    "v2=Voiture(\"Alpha\",\"Rouge\")\n",
    "print(v1)\n",
    "print(v2)\n"
   ]
  },
  {
   "cell_type": "code",
   "execution_count": 20,
   "metadata": {},
   "outputs": [
    {
     "name": "stdout",
     "output_type": "stream",
     "text": [
      "['__class__', '__delattr__', '__dir__', '__doc__', '__eq__', '__format__', '__ge__', '__getattribute__', '__gt__', '__hash__', '__init__', '__init_subclass__', '__le__', '__lt__', '__ne__', '__new__', '__reduce__', '__reduce_ex__', '__repr__', '__setattr__', '__sizeof__', '__str__', '__subclasshook__']\n",
      "Help on built-in function __new__:\n",
      "\n",
      "__new__(*args, **kwargs) method of builtins.type instance\n",
      "    Create and return a new object.  See help(type) for accurate signature.\n",
      "\n",
      "Help on wrapper_descriptor:\n",
      "\n",
      "__init__(self, /, *args, **kwargs)\n",
      "    Initialize self.  See help(type(self)) for accurate signature.\n",
      "\n"
     ]
    }
   ],
   "source": [
    "# DIR-OBJECT\n",
    "print(dir(object))\n",
    "help(object.__new__)\n",
    "help(object.__init__)"
   ]
  },
  {
   "cell_type": "code",
   "execution_count": 39,
   "metadata": {},
   "outputs": [
    {
     "name": "stdout",
     "output_type": "stream",
     "text": [
      "Je suis une voiture Alpha Rouge\n"
     ]
    },
    {
     "data": {
      "text/plain": [
       "Je suis une Representation de voiture default default"
      ]
     },
     "execution_count": 39,
     "metadata": {},
     "output_type": "execute_result"
    }
   ],
   "source": [
    "# EXEMPLE-VOITURE-METHOD-SPE\n",
    "class Voiture():\n",
    "    \n",
    "    nbrInstance=0;\n",
    "    \n",
    "    def __init__(self,modele=\"default\", couleur=\"default\"):\n",
    "        Voiture.nbrInstance+=1\n",
    "        self.modele=modele\n",
    "        self.couleur=couleur\n",
    "\n",
    "    def __repr__(self):\n",
    "        return \"Je suis une Representation de voiture {} {}\".format(self.modele,self.couleur)\n",
    "        \n",
    "    def __str__(self):\n",
    "        return \"Je suis une voiture {} {}\".format(self.modele,self.couleur)\n",
    "        \n",
    "        \n",
    "v1=Voiture()\n",
    "v2=Voiture(\"Alpha\",\"Rouge\")\n",
    "print(v2)\n",
    "v1\n",
    "print(v.__dict__[\"modele\"])"
   ]
  },
  {
   "cell_type": "code",
   "execution_count": 57,
   "metadata": {},
   "outputs": [
    {
     "name": "stdout",
     "output_type": "stream",
     "text": [
      "Je suis une Representation de voiture Alpha Rouge\n",
      "Alpha\n",
      "Je suis une Representation de voiture Ciroen Rouge\n"
     ]
    }
   ],
   "source": [
    "# EX-VOIT-TAB\n",
    "class Voiture():\n",
    "    \n",
    "    nbrInstance=0;\n",
    "    \n",
    "    def __init__(self,modele=\"default\", couleur=\"default\"):\n",
    "        Voiture.nbrInstance+=1\n",
    "        self.modele=modele\n",
    "        self.couleur=couleur\n",
    "\n",
    "    def __repr__(self):\n",
    "        return \"Je suis une Representation de voiture {} {}\".format(self.modele,self.couleur)\n",
    "\n",
    "    \n",
    "    def __getitem__(self,name):\n",
    "        return self.__getattribute__(name)\n",
    "    \n",
    "    def __setitem__(self,name,valeur): \n",
    "        return self.__setattr__(name,valeur)\n",
    "    \n",
    "    def __delitem__(self):\n",
    "        return \"!\"\n",
    "    \n",
    "v=Voiture(\"Alpha\",\"Rouge\")\n",
    "\n",
    "print(v)\n",
    "print(v[\"modele\"])\n",
    "v[\"modele\"]=\"Ciroen\"\n",
    "print(v)"
   ]
  },
  {
   "cell_type": "code",
   "execution_count": 76,
   "metadata": {},
   "outputs": [
    {
     "name": "stdout",
     "output_type": "stream",
     "text": [
      "Je roule en voiture: Je suis un vehicule a 4 roues Je suis une voiture Alpha Rouge\n",
      "Je roule en moto: Je suis un vehicule a 2 roues Je suis une moto Yam Bleu\n"
     ]
    }
   ],
   "source": [
    "# HERITAGE\n",
    "\n",
    "class Vehicule():\n",
    "    \n",
    "    nbrInstance=0;\n",
    "    \n",
    "    def __init__(self,nbrRoue,modele=\"default\", couleur=\"default\"):\n",
    "        Voiture.nbrInstance+=1\n",
    "        self.nbrRoue=nbrRoue\n",
    "        self.modele=modele\n",
    "        self.couleur=couleur\n",
    "\n",
    "    def __repr__(self):\n",
    "        return \"Je suis un vehicule a {} roues\".format(self.nbrRoue)\n",
    "    \n",
    "    def roule(self):\n",
    "        pass\n",
    "\n",
    "class Voiture(Vehicule):\n",
    "    \n",
    "    def __init__(self,nbrRoue=4,modele=\"default\", couleur=\"default\"):\n",
    "        Vehicule.__init__(self,nbrRoue,modele,couleur)\n",
    "\n",
    "    def __repr__(self):\n",
    "        return Vehicule.__repr__(self) +\" Je suis une voiture {} {}\".format(self.modele,self.couleur)\n",
    "    \n",
    "    def roule(self):\n",
    "        return \"Je roule en voiture: \"+ self.__repr__()\n",
    "        \n",
    "class Moto(Vehicule):\n",
    "    \n",
    "    def __init__(self,nbrRoue=2,modele=\"default\", couleur=\"default\"):\n",
    "        Vehicule.__init__(self,nbrRoue,modele,couleur)\n",
    "        self.modele=modele\n",
    "        self.couleur=couleur\n",
    "\n",
    "    def __repr__(self):\n",
    "        return Vehicule.__repr__(self) +\" Je suis une moto {} {}\".format(self.modele,self.couleur)\n",
    "    \n",
    "    def roule(self):\n",
    "        return \"Je roule en moto: \"+ self.__repr__()\n",
    "        \n",
    "l=[Voiture(modele=\"Alpha\",couleur=\"Rouge\"),Moto(modele=\"Yam\",couleur=\"Bleu\")]        \n",
    "for vehicule in l:\n",
    "    print(vehicule.roule())\n",
    "    \n",
    "    "
   ]
  },
  {
   "cell_type": "code",
   "execution_count": 77,
   "metadata": {},
   "outputs": [
    {
     "name": "stdout",
     "output_type": "stream",
     "text": [
      "Je roule en voiture: Je suis un vehicule a 4 roues Je suis une voiture Alpha Rougeouin!! ouin!!\n",
      "Je roule en moto: Je suis un vehicule a 2 roues Je suis une moto Yam Bleuouin!! ouin!!\n",
      "ouin!! ouin!!\n",
      "ouin!! ouin!!\n"
     ]
    }
   ],
   "source": [
    "# HERIT-MUTL\n",
    "\n",
    "class Urgence():\n",
    "    \n",
    "    def sonne(self):\n",
    "        return \"ouin!! ouin!!\"\n",
    "\n",
    "\n",
    "class VoitureUrgence(Voiture, Urgence):\n",
    "    \n",
    "    def __init__(self,nbrRoue=4,modele=\"default\", couleur=\"default\"):\n",
    "        Voiture.__init__(self,nbrRoue,modele,couleur)\n",
    "    \n",
    "    def roule(self):\n",
    "        return Voiture.roule(self)+Urgence.sonne(self)\n",
    "        \n",
    "class MotoUrgence(Moto, Urgence):\n",
    "    \n",
    "    def __init__(self,nbrRoue=2,modele=\"default\", couleur=\"default\"):\n",
    "        Moto.__init__(self,nbrRoue,modele,couleur)\n",
    "       \n",
    "    def roule(self):\n",
    "        return Moto.roule(self)+Urgence.sonne(self)\n",
    "        \n",
    "l=[VoitureUrgence(modele=\"Alpha\",couleur=\"Rouge\"),MotoUrgence(modele=\"Yam\",couleur=\"Bleu\")]        \n",
    "for vehicule in l:\n",
    "    print(vehicule.roule())      \n",
    "    \n",
    "for vehicule in l:\n",
    "    print(vehicule.sonne())"
   ]
  },
  {
   "cell_type": "code",
   "execution_count": 84,
   "metadata": {},
   "outputs": [
    {
     "name": "stdout",
     "output_type": "stream",
     "text": [
      "0 nbrRoue 4\n",
      "1 modele Alpha\n",
      "2 couleur Rouge\n",
      "0 nbrRoue 2\n",
      "1 modele Yam\n",
      "2 couleur Bleu\n"
     ]
    }
   ],
   "source": [
    "# REFLEXION\n",
    "\n",
    "for vehicule in l:\n",
    "    for (index,prop) in enumerate(vehicule.__dict__):\n",
    "        print(index,prop,vehicule.__getattribute__(prop))"
   ]
  },
  {
   "cell_type": "code",
   "execution_count": 176,
   "metadata": {
    "scrolled": true
   },
   "outputs": [
    {
     "name": "stdout",
     "output_type": "stream",
     "text": [
      "--------------\n",
      "quel est le type de t? <class 'type'>\n",
      "quel est le type de Maclass? <class 'type'>\n",
      "--------------\n",
      "Affichons t: <class '__main__.MonType'>\n",
      "Affichons MaClass: <class '__main__.MaClass'>\n",
      "--------------\n",
      "Quel est le type de l'instance i de t? <class '__main__.MonType'>\n",
      "Quel est le type de l'instance c de MaClass? <class '__main__.MaClass'>\n",
      "--------------\n",
      "Affichons i <__main__.MonType object at 0x03523E30>\n",
      "Affichons c <__main__.MaClass object at 0x03523B10>\n",
      "--------------\n",
      "Quels sont les classes dont t derives? (<class '__main__.MaSuperClass'>,)\n",
      "Quels sont les classes dont MaClass derives? (<class '__main__.MaSuperClass'>,)\n",
      "--------------\n",
      "Quel est la meta classe de t? <class 'type'>\n",
      "Quel est la meta classe de MaClass? <class 'type'>\n"
     ]
    }
   ],
   "source": [
    "# EXEMPLE-META-CLASS TODO a consolider\n",
    "\n",
    "class MaSuperClass():\n",
    "    pass\n",
    "\n",
    "class MaClass(MaSuperClass):\n",
    "    pass\n",
    "\n",
    "t=type(\"MonType\", (MaSuperClass,), {})\n",
    "print(\"--------------\")\n",
    "print(\"quel est le type de t?\",type(t))\n",
    "print(\"quel est le type de Maclass?\",type(MaClass))\n",
    "print(\"--------------\")\n",
    "print(\"Affichons t:\",t)\n",
    "print(\"Affichons MaClass:\",MaClass)\n",
    "\n",
    "i=t()\n",
    "c=MaClass()\n",
    "print(\"--------------\")\n",
    "print(\"Quel est le type de l'instance i de t?\",type(i))\n",
    "print(\"Quel est le type de l'instance c de MaClass?\",type(c))\n",
    "print(\"--------------\")\n",
    "print(\"Affichons i\",i)\n",
    "print(\"Affichons c\",c)\n",
    "\n",
    "print(\"--------------\")\n",
    "print(\"Quels sont les classes dont t derives?\",t.__bases__)  # ce sont les classes desquelles t derives\n",
    "print(\"Quels sont les classes dont MaClass derives?\",MaClass.__bases__)  # ce sont les classes desquelles t derives\n",
    "print(\"--------------\")\n",
    "print(\"Quel est la meta classe de t?\",t.__class__) # ce c'est la metaclasse de t\n",
    "print(\"Quel est la meta classe de MaClass?\",MaClass.__class__) # ce c'est la metaclasse de t\n",
    "\n"
   ]
  },
  {
   "cell_type": "code",
   "execution_count": 185,
   "metadata": {},
   "outputs": [
    {
     "name": "stdout",
     "output_type": "stream",
     "text": [
      "--------------\n",
      "quel est le type de t? <class 'type'>\n",
      "quel est le type de MaMetaClass? <class 'type'>\n",
      "--------------\n",
      "Affichons t: <class '__main__.MonMetaType'>\n",
      "Affichons MaMetaClass: <class '__main__.MaMetaClass'>\n",
      "--------------\n",
      "Le type de i <class '__main__.MonMetaType'>\n",
      "Le type de MaClass <class '__main__.MaMetaClass'>\n",
      "--------------\n",
      "i ? <class '__main__.MonType'>\n",
      "MaClass ? <class '__main__.MaClass'>\n",
      "--------------\n",
      "Quels sont les classes dont t derives? (<class 'type'>,)\n",
      "Quels sont les classes dont MaMetaClass derives? (<class 'type'>,)\n",
      "--------------\n",
      "Quel est la meta classe de t? <class 'type'>\n",
      "Quel est la meta classe de MaMetaClass? <class 'type'>\n",
      "--------------\n",
      "Quels sont les classes dont i derives? (<class '__main__.Primaire'>,)\n",
      "Quels sont les classes dont MaClass derives? (<class '__main__.Primaire'>,)\n",
      "--------------\n",
      "Quel est la meta classe de i? <class '__main__.MonMetaType'>\n",
      "Quel est la meta classe de MaClass? <class '__main__.MaMetaClass'>\n"
     ]
    }
   ],
   "source": [
    "# EXEMPLE-META-META\n",
    "\n",
    "class MaMetaClass(type):\n",
    "    pass\n",
    "\n",
    "t=type(\"MonMetaType\", (type,), {})\n",
    "print(\"--------------\")\n",
    "print(\"quel est le type de t?\",type(t))\n",
    "print(\"quel est le type de MaMetaClass?\",type(MaMetaClass))\n",
    "print(\"--------------\")\n",
    "print(\"Affichons t:\",t)\n",
    "print(\"Affichons MaMetaClass:\",MaMetaClass)\n",
    "\n",
    "class Primaire:\n",
    "    pass\n",
    "\n",
    "class MaClass(Primaire, metaclass=MaMetaClass):\n",
    "    pass\n",
    "\n",
    "i=t(\"MonType\", (Primaire,), {})\n",
    "print(\"--------------\")\n",
    "print(\"Le type de i\",type(i))\n",
    "print(\"Le type de MaClass\",type(MaClass))\n",
    "print(\"--------------\")\n",
    "print(\"i ?\",i)\n",
    "print(\"MaClass ?\",MaClass)\n",
    "\n",
    "print(\"--------------\")\n",
    "print(\"Quels sont les classes dont t derives?\",t.__bases__)  # ce sont les classes desquelles t derives\n",
    "print(\"Quels sont les classes dont MaMetaClass derives?\",MaMetaClass.__bases__)  # ce sont les classes desquelles t derives\n",
    "print(\"--------------\")\n",
    "print(\"Quel est la meta classe de t?\",t.__class__) # ce c'est la metaclasse de t\n",
    "print(\"Quel est la meta classe de MaMetaClass?\",MaMetaClass.__class__) # ce c'est la metaclasse de t\n",
    "\n",
    "print(\"--------------\")\n",
    "print(\"Quels sont les classes dont i derives?\",i.__bases__)  # ce sont les classes desquelles t derives\n",
    "print(\"Quels sont les classes dont MaClass derives?\",MaClass.__bases__)  # ce sont les classes desquelles t derives\n",
    "print(\"--------------\")\n",
    "print(\"Quel est la meta classe de i?\",i.__class__) # ce c'est la metaclasse de t\n",
    "print(\"Quel est la meta classe de MaClass?\",MaClass.__class__) # ce c'est la metaclasse de t"
   ]
  },
  {
   "cell_type": "code",
   "execution_count": 189,
   "metadata": {},
   "outputs": [
    {
     "name": "stdout",
     "output_type": "stream",
     "text": [
      "ma cls: <__main__.MaClass object at 0x03523C50>\n"
     ]
    }
   ],
   "source": [
    "#EXEMPLE-ASS-METHO\n",
    "\n",
    "uneProp=12\n",
    "\n",
    "def maFonction(cls):\n",
    "    print(\"ma cls:\",cls)\n",
    "\n",
    "dic={\"var\":uneProp, \"methode\":maFonction}\n",
    "\n",
    "maclass=type(\"MaClass\",(),dic)\n",
    "\n",
    "instance=maclass()\n",
    "instance.methode()\n",
    "    "
   ]
  },
  {
   "cell_type": "code",
   "execution_count": null,
   "metadata": {},
   "outputs": [],
   "source": []
  },
  {
   "cell_type": "code",
   "execution_count": null,
   "metadata": {},
   "outputs": [],
   "source": []
  }
 ],
 "metadata": {
  "kernelspec": {
   "display_name": "Python 3",
   "language": "python",
   "name": "python3"
  },
  "language_info": {
   "codemirror_mode": {
    "name": "ipython",
    "version": 3
   },
   "file_extension": ".py",
   "mimetype": "text/x-python",
   "name": "python",
   "nbconvert_exporter": "python",
   "pygments_lexer": "ipython3",
   "version": "3.6.6"
  }
 },
 "nbformat": 4,
 "nbformat_minor": 2
}
